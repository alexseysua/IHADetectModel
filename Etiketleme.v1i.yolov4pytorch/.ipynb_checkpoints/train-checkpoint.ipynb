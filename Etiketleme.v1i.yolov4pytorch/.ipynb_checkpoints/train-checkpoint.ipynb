{
 "cells": [
  {
   "cell_type": "code",
   "execution_count": 3,
   "id": "a6535c7c-e656-484b-a4ba-33a1eadc2887",
   "metadata": {
    "tags": []
   },
   "outputs": [
    {
     "ename": "SyntaxError",
     "evalue": "(unicode error) 'unicodeescape' codec can't decode bytes in position 2-3: truncated \\UXXXXXXXX escape (1084554530.py, line 18)",
     "output_type": "error",
     "traceback": [
      "\u001b[1;36m  Cell \u001b[1;32mIn[3], line 18\u001b[1;36m\u001b[0m\n\u001b[1;33m    Image_dir = 'C:\\Users\\524ha\\Desktop\\İHADetectModel\\\\Etiketleme.v1i.yolov4pytorch\\\\train'\u001b[0m\n\u001b[1;37m                                                                                            ^\u001b[0m\n\u001b[1;31mSyntaxError\u001b[0m\u001b[1;31m:\u001b[0m (unicode error) 'unicodeescape' codec can't decode bytes in position 2-3: truncated \\UXXXXXXXX escape\n"
     ]
    }
   ],
   "source": [
    "import os\n",
    "import random\n",
    "import pandas as pd\n",
    "from PIL import Image\n",
    "import cv2\n",
    "from ultralytics import YOLO\n",
    "from IPython.display import Video\n",
    "import numpy as np  \n",
    "import matplotlib.pyplot as plt\n",
    "import seaborn as sns\n",
    "sns.set(style='darkgrid')\n",
    "import pathlib\n",
    "import glob\n",
    "from tqdm.notebook import trange, tqdm\n",
    "import warnings\n",
    "warnings.filterwarnings('ignore')\n",
    "\n",
    "Image_dir = 'C:\\\\Users\\\\524ha\\\\Desktop\\\\IHADetectModel\\\\Etiketleme.v1i.yolov4pytorch\\\\train'\n",
    "\n",
    "\n",
    "num_samples = 3\n",
    "image_files = os.listdir(Image_dir)\n",
    "\n",
    "rand_images = random.sample(image_files, num_samples)\n",
    "\n",
    "fig, axes = plt.subplots(3, 3, figsize=(11, 11))\n",
    "\n",
    "for i in range(num_samples):\n",
    "    image = rand_images[i]\n",
    "    ax = axes[i // 3, i % 3]\n",
    "    ax.imshow(plt.imread(os.path.join(Image_dir, image)))\n",
    "    ax.set_title(f'Image {i+1}')\n",
    "    ax.axis('off')\n",
    "\n",
    "plt.tight_layout()\n",
    "plt.show()"
   ]
  },
  {
   "cell_type": "code",
   "execution_count": null,
   "id": "7564c045-d4d8-4e7f-bb3b-b3c7807b9856",
   "metadata": {},
   "outputs": [],
   "source": []
  }
 ],
 "metadata": {
  "kernelspec": {
   "display_name": "Python 3 (ipykernel)",
   "language": "python",
   "name": "python3"
  },
  "language_info": {
   "codemirror_mode": {
    "name": "ipython",
    "version": 3
   },
   "file_extension": ".py",
   "mimetype": "text/x-python",
   "name": "python",
   "nbconvert_exporter": "python",
   "pygments_lexer": "ipython3",
   "version": "3.11.5"
  }
 },
 "nbformat": 4,
 "nbformat_minor": 5
}
